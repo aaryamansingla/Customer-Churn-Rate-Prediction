{
 "cells": [
  {
   "cell_type": "markdown",
   "id": "459433d5",
   "metadata": {},
   "source": [
    "# Customer Churn - Focused Customer Retention Programs\n",
    "\n",
    "<strong>Problem Statement : </strong>\"Predict behavior to retain customers. You can analyze all relevant customer data and develop focused customer retention programs.\""
   ]
  },
  {
   "cell_type": "markdown",
   "id": "de7fc0ff",
   "metadata": {},
   "source": [
    "Each row represents a customer, each column contains customer’s attributes described on the column Metadata.\n",
    "\n",
    "The data set includes information about:\n",
    "\n",
    "* Customers who left within the last month – the column is called Churn\n",
    "* Services that each customer has signed up for – phone, multiple lines, internet, online security, online backup, device protection, tech support, and streaming TV and movies\n",
    "* Customer account information – how long they’ve been a customer, contract, payment method, paperless billing, monthly charges, and total charges\n",
    "* Demographic info about customers – gender, age range, and if they have partners and dependents"
   ]
  },
  {
   "cell_type": "markdown",
   "id": "3adae8cd",
   "metadata": {},
   "source": [
    "### Importing Libraries"
   ]
  },
  {
   "cell_type": "code",
   "execution_count": 1,
   "id": "3aa4a7fa",
   "metadata": {},
   "outputs": [],
   "source": [
    "import pandas as pd\n",
    "import numpy as np\n",
    "import matplotlib.pyplot as plt\n",
    "%matplotlib inline\n",
    "import seaborn as sns\n",
    "\n",
    "from sklearn.model_selection import train_test_split\n",
    "from sklearn.linear_model import LogisticRegression\n",
    "from sklearn.tree import DecisionTreeClassifier\n",
    "from sklearn.ensemble import RandomForestClassifier\n",
    "from sklearn.svm import SVC\n",
    "from sklearn.neighbors import KNeighborsClassifier\n",
    "from sklearn.preprocessing import StandardScaler\n",
    "from imblearn.over_sampling import SMOTE\n",
    "from sklearn.metrics import confusion_matrix, classification_report\n",
    "from sklearn.metrics import accuracy_score"
   ]
  },
  {
   "cell_type": "markdown",
   "id": "cd65948d",
   "metadata": {},
   "source": [
    "### Loading the dataset"
   ]
  },
  {
   "cell_type": "code",
   "execution_count": 2,
   "id": "323cbc01",
   "metadata": {},
   "outputs": [],
   "source": [
    "report = pd.read_csv(\"Telco-Customer-Churn.csv\")"
   ]
  },
  {
   "cell_type": "code",
   "execution_count": 3,
   "id": "7892ca8f",
   "metadata": {},
   "outputs": [
    {
     "data": {
      "text/html": [
       "<div>\n",
       "<style scoped>\n",
       "    .dataframe tbody tr th:only-of-type {\n",
       "        vertical-align: middle;\n",
       "    }\n",
       "\n",
       "    .dataframe tbody tr th {\n",
       "        vertical-align: top;\n",
       "    }\n",
       "\n",
       "    .dataframe thead th {\n",
       "        text-align: right;\n",
       "    }\n",
       "</style>\n",
       "<table border=\"1\" class=\"dataframe\">\n",
       "  <thead>\n",
       "    <tr style=\"text-align: right;\">\n",
       "      <th></th>\n",
       "      <th>customerID</th>\n",
       "      <th>gender</th>\n",
       "      <th>SeniorCitizen</th>\n",
       "      <th>Partner</th>\n",
       "      <th>Dependents</th>\n",
       "      <th>tenure</th>\n",
       "      <th>PhoneService</th>\n",
       "      <th>MultipleLines</th>\n",
       "      <th>InternetService</th>\n",
       "      <th>OnlineSecurity</th>\n",
       "      <th>...</th>\n",
       "      <th>DeviceProtection</th>\n",
       "      <th>TechSupport</th>\n",
       "      <th>StreamingTV</th>\n",
       "      <th>StreamingMovies</th>\n",
       "      <th>Contract</th>\n",
       "      <th>PaperlessBilling</th>\n",
       "      <th>PaymentMethod</th>\n",
       "      <th>MonthlyCharges</th>\n",
       "      <th>TotalCharges</th>\n",
       "      <th>Churn</th>\n",
       "    </tr>\n",
       "  </thead>\n",
       "  <tbody>\n",
       "    <tr>\n",
       "      <th>0</th>\n",
       "      <td>7590-VHVEG</td>\n",
       "      <td>Female</td>\n",
       "      <td>0</td>\n",
       "      <td>Yes</td>\n",
       "      <td>No</td>\n",
       "      <td>1</td>\n",
       "      <td>No</td>\n",
       "      <td>No phone service</td>\n",
       "      <td>DSL</td>\n",
       "      <td>No</td>\n",
       "      <td>...</td>\n",
       "      <td>No</td>\n",
       "      <td>No</td>\n",
       "      <td>No</td>\n",
       "      <td>No</td>\n",
       "      <td>Month-to-month</td>\n",
       "      <td>Yes</td>\n",
       "      <td>Electronic check</td>\n",
       "      <td>29.85</td>\n",
       "      <td>29.85</td>\n",
       "      <td>No</td>\n",
       "    </tr>\n",
       "    <tr>\n",
       "      <th>1</th>\n",
       "      <td>5575-GNVDE</td>\n",
       "      <td>Male</td>\n",
       "      <td>0</td>\n",
       "      <td>No</td>\n",
       "      <td>No</td>\n",
       "      <td>34</td>\n",
       "      <td>Yes</td>\n",
       "      <td>No</td>\n",
       "      <td>DSL</td>\n",
       "      <td>Yes</td>\n",
       "      <td>...</td>\n",
       "      <td>Yes</td>\n",
       "      <td>No</td>\n",
       "      <td>No</td>\n",
       "      <td>No</td>\n",
       "      <td>One year</td>\n",
       "      <td>No</td>\n",
       "      <td>Mailed check</td>\n",
       "      <td>56.95</td>\n",
       "      <td>1889.5</td>\n",
       "      <td>No</td>\n",
       "    </tr>\n",
       "    <tr>\n",
       "      <th>2</th>\n",
       "      <td>3668-QPYBK</td>\n",
       "      <td>Male</td>\n",
       "      <td>0</td>\n",
       "      <td>No</td>\n",
       "      <td>No</td>\n",
       "      <td>2</td>\n",
       "      <td>Yes</td>\n",
       "      <td>No</td>\n",
       "      <td>DSL</td>\n",
       "      <td>Yes</td>\n",
       "      <td>...</td>\n",
       "      <td>No</td>\n",
       "      <td>No</td>\n",
       "      <td>No</td>\n",
       "      <td>No</td>\n",
       "      <td>Month-to-month</td>\n",
       "      <td>Yes</td>\n",
       "      <td>Mailed check</td>\n",
       "      <td>53.85</td>\n",
       "      <td>108.15</td>\n",
       "      <td>Yes</td>\n",
       "    </tr>\n",
       "    <tr>\n",
       "      <th>3</th>\n",
       "      <td>7795-CFOCW</td>\n",
       "      <td>Male</td>\n",
       "      <td>0</td>\n",
       "      <td>No</td>\n",
       "      <td>No</td>\n",
       "      <td>45</td>\n",
       "      <td>No</td>\n",
       "      <td>No phone service</td>\n",
       "      <td>DSL</td>\n",
       "      <td>Yes</td>\n",
       "      <td>...</td>\n",
       "      <td>Yes</td>\n",
       "      <td>Yes</td>\n",
       "      <td>No</td>\n",
       "      <td>No</td>\n",
       "      <td>One year</td>\n",
       "      <td>No</td>\n",
       "      <td>Bank transfer (automatic)</td>\n",
       "      <td>42.30</td>\n",
       "      <td>1840.75</td>\n",
       "      <td>No</td>\n",
       "    </tr>\n",
       "    <tr>\n",
       "      <th>4</th>\n",
       "      <td>9237-HQITU</td>\n",
       "      <td>Female</td>\n",
       "      <td>0</td>\n",
       "      <td>No</td>\n",
       "      <td>No</td>\n",
       "      <td>2</td>\n",
       "      <td>Yes</td>\n",
       "      <td>No</td>\n",
       "      <td>Fiber optic</td>\n",
       "      <td>No</td>\n",
       "      <td>...</td>\n",
       "      <td>No</td>\n",
       "      <td>No</td>\n",
       "      <td>No</td>\n",
       "      <td>No</td>\n",
       "      <td>Month-to-month</td>\n",
       "      <td>Yes</td>\n",
       "      <td>Electronic check</td>\n",
       "      <td>70.70</td>\n",
       "      <td>151.65</td>\n",
       "      <td>Yes</td>\n",
       "    </tr>\n",
       "  </tbody>\n",
       "</table>\n",
       "<p>5 rows × 21 columns</p>\n",
       "</div>"
      ],
      "text/plain": [
       "   customerID  gender  SeniorCitizen Partner Dependents  tenure PhoneService  \\\n",
       "0  7590-VHVEG  Female              0     Yes         No       1           No   \n",
       "1  5575-GNVDE    Male              0      No         No      34          Yes   \n",
       "2  3668-QPYBK    Male              0      No         No       2          Yes   \n",
       "3  7795-CFOCW    Male              0      No         No      45           No   \n",
       "4  9237-HQITU  Female              0      No         No       2          Yes   \n",
       "\n",
       "      MultipleLines InternetService OnlineSecurity  ... DeviceProtection  \\\n",
       "0  No phone service             DSL             No  ...               No   \n",
       "1                No             DSL            Yes  ...              Yes   \n",
       "2                No             DSL            Yes  ...               No   \n",
       "3  No phone service             DSL            Yes  ...              Yes   \n",
       "4                No     Fiber optic             No  ...               No   \n",
       "\n",
       "  TechSupport StreamingTV StreamingMovies        Contract PaperlessBilling  \\\n",
       "0          No          No              No  Month-to-month              Yes   \n",
       "1          No          No              No        One year               No   \n",
       "2          No          No              No  Month-to-month              Yes   \n",
       "3         Yes          No              No        One year               No   \n",
       "4          No          No              No  Month-to-month              Yes   \n",
       "\n",
       "               PaymentMethod MonthlyCharges  TotalCharges Churn  \n",
       "0           Electronic check          29.85         29.85    No  \n",
       "1               Mailed check          56.95        1889.5    No  \n",
       "2               Mailed check          53.85        108.15   Yes  \n",
       "3  Bank transfer (automatic)          42.30       1840.75    No  \n",
       "4           Electronic check          70.70        151.65   Yes  \n",
       "\n",
       "[5 rows x 21 columns]"
      ]
     },
     "execution_count": 3,
     "metadata": {},
     "output_type": "execute_result"
    }
   ],
   "source": [
    "report.head()"
   ]
  },
  {
   "cell_type": "code",
   "execution_count": 4,
   "id": "c5cd0a73",
   "metadata": {},
   "outputs": [
    {
     "data": {
      "text/plain": [
       "(7043, 21)"
      ]
     },
     "execution_count": 4,
     "metadata": {},
     "output_type": "execute_result"
    }
   ],
   "source": [
    "report.shape"
   ]
  },
  {
   "cell_type": "code",
   "execution_count": 5,
   "id": "3892e06c",
   "metadata": {},
   "outputs": [
    {
     "data": {
      "text/plain": [
       "customerID          0\n",
       "gender              0\n",
       "SeniorCitizen       0\n",
       "Partner             0\n",
       "Dependents          0\n",
       "tenure              0\n",
       "PhoneService        0\n",
       "MultipleLines       0\n",
       "InternetService     0\n",
       "OnlineSecurity      0\n",
       "OnlineBackup        0\n",
       "DeviceProtection    0\n",
       "TechSupport         0\n",
       "StreamingTV         0\n",
       "StreamingMovies     0\n",
       "Contract            0\n",
       "PaperlessBilling    0\n",
       "PaymentMethod       0\n",
       "MonthlyCharges      0\n",
       "TotalCharges        0\n",
       "Churn               0\n",
       "dtype: int64"
      ]
     },
     "execution_count": 5,
     "metadata": {},
     "output_type": "execute_result"
    }
   ],
   "source": [
    "report.isnull().sum()"
   ]
  },
  {
   "cell_type": "code",
   "execution_count": 6,
   "id": "5c32a89c",
   "metadata": {},
   "outputs": [
    {
     "data": {
      "text/plain": [
       "0"
      ]
     },
     "execution_count": 6,
     "metadata": {},
     "output_type": "execute_result"
    }
   ],
   "source": [
    "report.duplicated().sum()"
   ]
  },
  {
   "cell_type": "code",
   "execution_count": 7,
   "id": "6f3814e1",
   "metadata": {},
   "outputs": [
    {
     "name": "stdout",
     "output_type": "stream",
     "text": [
      "customerID\n",
      "['7590-VHVEG' '5575-GNVDE' '3668-QPYBK' ... '4801-JZAZL' '8361-LTMKD'\n",
      " '3186-AJIEK']\n",
      "7043\n",
      "----------------------------------------------------------------------------------------------------\n",
      "gender\n",
      "['Female' 'Male']\n",
      "2\n",
      "----------------------------------------------------------------------------------------------------\n",
      "SeniorCitizen\n",
      "[0 1]\n",
      "2\n",
      "----------------------------------------------------------------------------------------------------\n",
      "Partner\n",
      "['Yes' 'No']\n",
      "2\n",
      "----------------------------------------------------------------------------------------------------\n",
      "Dependents\n",
      "['No' 'Yes']\n",
      "2\n",
      "----------------------------------------------------------------------------------------------------\n",
      "tenure\n",
      "[ 1 34  2 45  8 22 10 28 62 13 16 58 49 25 69 52 71 21 12 30 47 72 17 27\n",
      "  5 46 11 70 63 43 15 60 18 66  9  3 31 50 64 56  7 42 35 48 29 65 38 68\n",
      " 32 55 37 36 41  6  4 33 67 23 57 61 14 20 53 40 59 24 44 19 54 51 26  0\n",
      " 39]\n",
      "73\n",
      "----------------------------------------------------------------------------------------------------\n",
      "PhoneService\n",
      "['No' 'Yes']\n",
      "2\n",
      "----------------------------------------------------------------------------------------------------\n",
      "MultipleLines\n",
      "['No phone service' 'No' 'Yes']\n",
      "3\n",
      "----------------------------------------------------------------------------------------------------\n",
      "InternetService\n",
      "['DSL' 'Fiber optic' 'No']\n",
      "3\n",
      "----------------------------------------------------------------------------------------------------\n",
      "OnlineSecurity\n",
      "['No' 'Yes' 'No internet service']\n",
      "3\n",
      "----------------------------------------------------------------------------------------------------\n",
      "OnlineBackup\n",
      "['Yes' 'No' 'No internet service']\n",
      "3\n",
      "----------------------------------------------------------------------------------------------------\n",
      "DeviceProtection\n",
      "['No' 'Yes' 'No internet service']\n",
      "3\n",
      "----------------------------------------------------------------------------------------------------\n",
      "TechSupport\n",
      "['No' 'Yes' 'No internet service']\n",
      "3\n",
      "----------------------------------------------------------------------------------------------------\n",
      "StreamingTV\n",
      "['No' 'Yes' 'No internet service']\n",
      "3\n",
      "----------------------------------------------------------------------------------------------------\n",
      "StreamingMovies\n",
      "['No' 'Yes' 'No internet service']\n",
      "3\n",
      "----------------------------------------------------------------------------------------------------\n",
      "Contract\n",
      "['Month-to-month' 'One year' 'Two year']\n",
      "3\n",
      "----------------------------------------------------------------------------------------------------\n",
      "PaperlessBilling\n",
      "['Yes' 'No']\n",
      "2\n",
      "----------------------------------------------------------------------------------------------------\n",
      "PaymentMethod\n",
      "['Electronic check' 'Mailed check' 'Bank transfer (automatic)'\n",
      " 'Credit card (automatic)']\n",
      "4\n",
      "----------------------------------------------------------------------------------------------------\n",
      "MonthlyCharges\n",
      "[29.85 56.95 53.85 ... 63.1  44.2  78.7 ]\n",
      "1585\n",
      "----------------------------------------------------------------------------------------------------\n",
      "TotalCharges\n",
      "['29.85' '1889.5' '108.15' ... '346.45' '306.6' '6844.5']\n",
      "6531\n",
      "----------------------------------------------------------------------------------------------------\n",
      "Churn\n",
      "['No' 'Yes']\n",
      "2\n",
      "----------------------------------------------------------------------------------------------------\n"
     ]
    }
   ],
   "source": [
    "for i in report.columns:\n",
    "    print(i)\n",
    "    print(report[i].unique())\n",
    "    print(len(report[i].unique()))\n",
    "    print('-'*100)"
   ]
  },
  {
   "cell_type": "markdown",
   "id": "f54950bc",
   "metadata": {},
   "source": [
    "The `customerID` columns seems redundant for the prediction for the churn"
   ]
  },
  {
   "cell_type": "code",
   "execution_count": 8,
   "id": "b53d81ff",
   "metadata": {},
   "outputs": [],
   "source": [
    "report.drop(['customerID'], axis = 1, inplace = True)"
   ]
  },
  {
   "cell_type": "code",
   "execution_count": 9,
   "id": "e569245d",
   "metadata": {},
   "outputs": [
    {
     "name": "stdout",
     "output_type": "stream",
     "text": [
      "<class 'pandas.core.frame.DataFrame'>\n",
      "RangeIndex: 7043 entries, 0 to 7042\n",
      "Data columns (total 20 columns):\n",
      " #   Column            Non-Null Count  Dtype  \n",
      "---  ------            --------------  -----  \n",
      " 0   gender            7043 non-null   object \n",
      " 1   SeniorCitizen     7043 non-null   int64  \n",
      " 2   Partner           7043 non-null   object \n",
      " 3   Dependents        7043 non-null   object \n",
      " 4   tenure            7043 non-null   int64  \n",
      " 5   PhoneService      7043 non-null   object \n",
      " 6   MultipleLines     7043 non-null   object \n",
      " 7   InternetService   7043 non-null   object \n",
      " 8   OnlineSecurity    7043 non-null   object \n",
      " 9   OnlineBackup      7043 non-null   object \n",
      " 10  DeviceProtection  7043 non-null   object \n",
      " 11  TechSupport       7043 non-null   object \n",
      " 12  StreamingTV       7043 non-null   object \n",
      " 13  StreamingMovies   7043 non-null   object \n",
      " 14  Contract          7043 non-null   object \n",
      " 15  PaperlessBilling  7043 non-null   object \n",
      " 16  PaymentMethod     7043 non-null   object \n",
      " 17  MonthlyCharges    7043 non-null   float64\n",
      " 18  TotalCharges      7043 non-null   object \n",
      " 19  Churn             7043 non-null   object \n",
      "dtypes: float64(1), int64(2), object(17)\n",
      "memory usage: 1.1+ MB\n"
     ]
    }
   ],
   "source": [
    "report.info()"
   ]
  },
  {
   "cell_type": "code",
   "execution_count": 10,
   "id": "454b80dd",
   "metadata": {},
   "outputs": [
    {
     "data": {
      "text/plain": [
       "0         29.85\n",
       "1        1889.5\n",
       "2        108.15\n",
       "3       1840.75\n",
       "4        151.65\n",
       "         ...   \n",
       "7038     1990.5\n",
       "7039     7362.9\n",
       "7040     346.45\n",
       "7041      306.6\n",
       "7042     6844.5\n",
       "Name: TotalCharges, Length: 7043, dtype: object"
      ]
     },
     "execution_count": 10,
     "metadata": {},
     "output_type": "execute_result"
    }
   ],
   "source": [
    "report[\"TotalCharges\"]"
   ]
  },
  {
   "cell_type": "markdown",
   "id": "8df19000",
   "metadata": {},
   "source": [
    "The `TotalCharges` column has dtype as object when it should be int64/float64"
   ]
  },
  {
   "cell_type": "code",
   "execution_count": 11,
   "id": "75eab65c",
   "metadata": {},
   "outputs": [],
   "source": [
    "report[\"TotalCharges\"] = pd.to_numeric(report[\"TotalCharges\"],errors = 'coerce')"
   ]
  },
  {
   "cell_type": "markdown",
   "id": "70fe995b",
   "metadata": {},
   "source": [
    "errors : {‘ignore’, ‘raise’, ‘coerce’}, default ‘raise’\n",
    "* If ‘raise’, then invalid parsing will raise an exception\n",
    "* If ‘coerce’, then invalid parsing will be set as NaN\n",
    "* If ‘ignore’, then invalid parsing will return the input"
   ]
  },
  {
   "cell_type": "code",
   "execution_count": 12,
   "id": "3ddd5824",
   "metadata": {},
   "outputs": [
    {
     "data": {
      "text/plain": [
       "dtype('float64')"
      ]
     },
     "execution_count": 12,
     "metadata": {},
     "output_type": "execute_result"
    }
   ],
   "source": [
    "report[\"TotalCharges\"].dtype"
   ]
  },
  {
   "cell_type": "code",
   "execution_count": 13,
   "id": "fbbbdb5f",
   "metadata": {},
   "outputs": [
    {
     "data": {
      "text/plain": [
       "gender               0\n",
       "SeniorCitizen        0\n",
       "Partner              0\n",
       "Dependents           0\n",
       "tenure               0\n",
       "PhoneService         0\n",
       "MultipleLines        0\n",
       "InternetService      0\n",
       "OnlineSecurity       0\n",
       "OnlineBackup         0\n",
       "DeviceProtection     0\n",
       "TechSupport          0\n",
       "StreamingTV          0\n",
       "StreamingMovies      0\n",
       "Contract             0\n",
       "PaperlessBilling     0\n",
       "PaymentMethod        0\n",
       "MonthlyCharges       0\n",
       "TotalCharges        11\n",
       "Churn                0\n",
       "dtype: int64"
      ]
     },
     "execution_count": 13,
     "metadata": {},
     "output_type": "execute_result"
    }
   ],
   "source": [
    "report.isnull().sum()"
   ]
  },
  {
   "cell_type": "markdown",
   "id": "e1d6d45f",
   "metadata": {},
   "source": [
    "After converting the `TotalCharges` column from object type to float type, we observe that there are 11 rows that have null values in it"
   ]
  },
  {
   "cell_type": "code",
   "execution_count": 14,
   "id": "20cfc58b",
   "metadata": {},
   "outputs": [],
   "source": [
    "report.dropna(inplace = True)"
   ]
  },
  {
   "cell_type": "code",
   "execution_count": 15,
   "id": "976f09db",
   "metadata": {},
   "outputs": [
    {
     "data": {
      "text/plain": [
       "(7032, 20)"
      ]
     },
     "execution_count": 15,
     "metadata": {},
     "output_type": "execute_result"
    }
   ],
   "source": [
    "report.shape"
   ]
  },
  {
   "cell_type": "code",
   "execution_count": 16,
   "id": "40eed0d7",
   "metadata": {},
   "outputs": [
    {
     "name": "stdout",
     "output_type": "stream",
     "text": [
      "<class 'pandas.core.frame.DataFrame'>\n",
      "Int64Index: 7032 entries, 0 to 7042\n",
      "Data columns (total 20 columns):\n",
      " #   Column            Non-Null Count  Dtype  \n",
      "---  ------            --------------  -----  \n",
      " 0   gender            7032 non-null   object \n",
      " 1   SeniorCitizen     7032 non-null   int64  \n",
      " 2   Partner           7032 non-null   object \n",
      " 3   Dependents        7032 non-null   object \n",
      " 4   tenure            7032 non-null   int64  \n",
      " 5   PhoneService      7032 non-null   object \n",
      " 6   MultipleLines     7032 non-null   object \n",
      " 7   InternetService   7032 non-null   object \n",
      " 8   OnlineSecurity    7032 non-null   object \n",
      " 9   OnlineBackup      7032 non-null   object \n",
      " 10  DeviceProtection  7032 non-null   object \n",
      " 11  TechSupport       7032 non-null   object \n",
      " 12  StreamingTV       7032 non-null   object \n",
      " 13  StreamingMovies   7032 non-null   object \n",
      " 14  Contract          7032 non-null   object \n",
      " 15  PaperlessBilling  7032 non-null   object \n",
      " 16  PaymentMethod     7032 non-null   object \n",
      " 17  MonthlyCharges    7032 non-null   float64\n",
      " 18  TotalCharges      7032 non-null   float64\n",
      " 19  Churn             7032 non-null   object \n",
      "dtypes: float64(2), int64(2), object(16)\n",
      "memory usage: 1.1+ MB\n"
     ]
    }
   ],
   "source": [
    "report.info()"
   ]
  },
  {
   "cell_type": "markdown",
   "id": "9a938012",
   "metadata": {},
   "source": [
    "### Exploratory Data Analysis"
   ]
  },
  {
   "cell_type": "markdown",
   "id": "2dfc540d",
   "metadata": {},
   "source": [
    "#### The ratio of gender"
   ]
  },
  {
   "cell_type": "code",
   "execution_count": 17,
   "id": "f92526cf",
   "metadata": {},
   "outputs": [
    {
     "data": {
      "image/png": "[encoded data removed]",
      "text/plain": [
       "<Figure size 432x360 with 1 Axes>"
      ]
     },
     "metadata": {
      "needs_background": "light"
     },
     "output_type": "display_data"
    },
    {
     "data": {
      "image/png": "[encoded data removed]",
      "text/plain": [
       "<Figure size 432x360 with 1 Axes>"
      ]
     },
     "metadata": {
      "needs_background": "light"
     },
     "output_type": "display_data"
    },
    {
     "data": {
      "image/png": "[encoded data removed]",
      "text/plain": [
       "<Figure size 432x360 with 1 Axes>"
      ]
     },
     "metadata": {
      "needs_background": "light"
     },
     "output_type": "display_data"
    },
    {
     "data": {
      "image/png": "[encoded data removed]",
      "text/plain": [
       "<Figure size 432x360 with 1 Axes>"
      ]
     },
     "metadata": {
      "needs_background": "light"
     },
     "output_type": "display_data"
    }
   ],
   "source": [
    "demograph = [\"gender\",\"SeniorCitizen\", \"Partner\", \"Dependents\"]\n",
    "for demo in demograph:\n",
    "    plt.figure(figsize=(6,5))\n",
    "    sns.countplot(x=report[demo])\n",
    "    plt.show()"
   ]
  },
  {
   "cell_type": "markdown",
   "id": "4758ca4e",
   "metadata": {},
   "source": [
    "### Insights\n",
    "\n",
    "* There are equal number of female and male\n",
    "* There are very less number of senior citizens\n",
    "* There are equal number of people who have partners\n",
    "* There are almost half of the customers who have dependents"
   ]
  },
  {
   "cell_type": "markdown",
   "id": "53179ea2",
   "metadata": {},
   "source": [
    "#### The ratio of customer churn"
   ]
  },
  {
   "cell_type": "code",
   "execution_count": 18,
   "id": "6bfa4a76",
   "metadata": {},
   "outputs": [
    {
     "data": {
      "text/plain": [
       "<AxesSubplot:xlabel='Churn', ylabel='count'>"
      ]
     },
     "execution_count": 18,
     "metadata": {},
     "output_type": "execute_result"
    },
    {
     "data": {
      "image/png": "[encoded data removed]",
      "text/plain": [
       "<Figure size 432x288 with 1 Axes>"
      ]
     },
     "metadata": {
      "needs_background": "light"
     },
     "output_type": "display_data"
    }
   ],
   "source": [
    "sns.countplot(x = report[\"Churn\"])"
   ]
  },
  {
   "cell_type": "code",
   "execution_count": 19,
   "id": "db5b3ee9",
   "metadata": {},
   "outputs": [
    {
     "data": {
      "text/plain": [
       "No     5163\n",
       "Yes    1869\n",
       "Name: Churn, dtype: int64"
      ]
     },
     "execution_count": 19,
     "metadata": {},
     "output_type": "execute_result"
    }
   ],
   "source": [
    "report[\"Churn\"].value_counts()"
   ]
  },
  {
   "cell_type": "code",
   "execution_count": 20,
   "id": "dff42059",
   "metadata": {},
   "outputs": [
    {
     "name": "stdout",
     "output_type": "stream",
     "text": [
      "There are 26.58 % of customers who left the services.\n"
     ]
    }
   ],
   "source": [
    "print(\"There are {:.2f} % of customers who left the services.\".format(len(report[report[\"Churn\"] == \"Yes\"])/len(report)*100))"
   ]
  },
  {
   "cell_type": "markdown",
   "id": "8b174205",
   "metadata": {},
   "source": [
    " <font size=\"4\">This is fairly one-fourth of the customers which is a very significant drop in the churn</font>"
   ]
  },
  {
   "cell_type": "markdown",
   "id": "fa34cfc7",
   "metadata": {},
   "source": [
    "### Converting categorical columns into numeric columns"
   ]
  },
  {
   "cell_type": "code",
   "execution_count": 21,
   "id": "0982bc5a",
   "metadata": {},
   "outputs": [],
   "source": [
    "def categorical(report):\n",
    "    for col in report.columns:\n",
    "        if(report[col].dtype == np.object):\n",
    "            print(col)\n",
    "            print(report[col].unique())\n",
    "            print()"
   ]
  },
  {
   "cell_type": "code",
   "execution_count": 22,
   "id": "b1dbc72f",
   "metadata": {},
   "outputs": [
    {
     "name": "stdout",
     "output_type": "stream",
     "text": [
      "gender\n",
      "['Female' 'Male']\n",
      "\n",
      "Partner\n",
      "['Yes' 'No']\n",
      "\n",
      "Dependents\n",
      "['No' 'Yes']\n",
      "\n",
      "PhoneService\n",
      "['No' 'Yes']\n",
      "\n",
      "MultipleLines\n",
      "['No phone service' 'No' 'Yes']\n",
      "\n",
      "InternetService\n",
      "['DSL' 'Fiber optic' 'No']\n",
      "\n",
      "OnlineSecurity\n",
      "['No' 'Yes' 'No internet service']\n",
      "\n",
      "OnlineBackup\n",
      "['Yes' 'No' 'No internet service']\n",
      "\n",
      "DeviceProtection\n",
      "['No' 'Yes' 'No internet service']\n",
      "\n",
      "TechSupport\n",
      "['No' 'Yes' 'No internet service']\n",
      "\n",
      "StreamingTV\n",
      "['No' 'Yes' 'No internet service']\n",
      "\n",
      "StreamingMovies\n",
      "['No' 'Yes' 'No internet service']\n",
      "\n",
      "Contract\n",
      "['Month-to-month' 'One year' 'Two year']\n",
      "\n",
      "PaperlessBilling\n",
      "['Yes' 'No']\n",
      "\n",
      "PaymentMethod\n",
      "['Electronic check' 'Mailed check' 'Bank transfer (automatic)'\n",
      " 'Credit card (automatic)']\n",
      "\n",
      "Churn\n",
      "['No' 'Yes']\n",
      "\n"
     ]
    },
    {
     "name": "stderr",
     "output_type": "stream",
     "text": [
      "<ipython-input-21-907ee543b166>:3: DeprecationWarning: `np.object` is a deprecated alias for the builtin `object`. To silence this warning, use `object` by itself. Doing this will not modify any behavior and is safe. \n",
      "Deprecated in NumPy 1.20; for more details and guidance: https://numpy.org/devdocs/release/1.20.0-notes.html#deprecations\n",
      "  if(report[col].dtype == np.object):\n"
     ]
    }
   ],
   "source": [
    "categorical(report)"
   ]
  },
  {
   "cell_type": "markdown",
   "id": "4c9b9080",
   "metadata": {},
   "source": [
    "#### Gender"
   ]
  },
  {
   "cell_type": "code",
   "execution_count": 23,
   "id": "460cff69",
   "metadata": {},
   "outputs": [
    {
     "data": {
      "text/plain": [
       "array(['Female', 'Male'], dtype=object)"
      ]
     },
     "execution_count": 23,
     "metadata": {},
     "output_type": "execute_result"
    }
   ],
   "source": [
    "report[\"gender\"].unique()"
   ]
  },
  {
   "cell_type": "code",
   "execution_count": 24,
   "id": "f896aae7",
   "metadata": {},
   "outputs": [],
   "source": [
    "report.replace({'Female':0, 'Male': 1}, inplace = True)"
   ]
  },
  {
   "cell_type": "code",
   "execution_count": 25,
   "id": "960f93f1",
   "metadata": {},
   "outputs": [],
   "source": [
    "report.replace('No phone service', 'No', inplace = True)\n",
    "report.replace('No internet service', 'No', inplace = True)"
   ]
  },
  {
   "cell_type": "code",
   "execution_count": 26,
   "id": "0c9a5ca7",
   "metadata": {},
   "outputs": [
    {
     "name": "stdout",
     "output_type": "stream",
     "text": [
      "Partner\n",
      "['Yes' 'No']\n",
      "\n",
      "Dependents\n",
      "['No' 'Yes']\n",
      "\n",
      "PhoneService\n",
      "['No' 'Yes']\n",
      "\n",
      "MultipleLines\n",
      "['No' 'Yes']\n",
      "\n",
      "InternetService\n",
      "['DSL' 'Fiber optic' 'No']\n",
      "\n",
      "OnlineSecurity\n",
      "['No' 'Yes']\n",
      "\n",
      "OnlineBackup\n",
      "['Yes' 'No']\n",
      "\n",
      "DeviceProtection\n",
      "['No' 'Yes']\n",
      "\n",
      "TechSupport\n",
      "['No' 'Yes']\n",
      "\n",
      "StreamingTV\n",
      "['No' 'Yes']\n",
      "\n",
      "StreamingMovies\n",
      "['No' 'Yes']\n",
      "\n",
      "Contract\n",
      "['Month-to-month' 'One year' 'Two year']\n",
      "\n",
      "PaperlessBilling\n",
      "['Yes' 'No']\n",
      "\n",
      "PaymentMethod\n",
      "['Electronic check' 'Mailed check' 'Bank transfer (automatic)'\n",
      " 'Credit card (automatic)']\n",
      "\n",
      "Churn\n",
      "['No' 'Yes']\n",
      "\n"
     ]
    },
    {
     "name": "stderr",
     "output_type": "stream",
     "text": [
      "<ipython-input-21-907ee543b166>:3: DeprecationWarning: `np.object` is a deprecated alias for the builtin `object`. To silence this warning, use `object` by itself. Doing this will not modify any behavior and is safe. \n",
      "Deprecated in NumPy 1.20; for more details and guidance: https://numpy.org/devdocs/release/1.20.0-notes.html#deprecations\n",
      "  if(report[col].dtype == np.object):\n"
     ]
    }
   ],
   "source": [
    "categorical(report)"
   ]
  },
  {
   "cell_type": "code",
   "execution_count": 27,
   "id": "19d0def9",
   "metadata": {},
   "outputs": [],
   "source": [
    "report.replace({'Yes':1, 'No': 0}, inplace = True)"
   ]
  },
  {
   "cell_type": "code",
   "execution_count": 28,
   "id": "a69687f4",
   "metadata": {},
   "outputs": [
    {
     "name": "stdout",
     "output_type": "stream",
     "text": [
      "InternetService\n",
      "['DSL' 'Fiber optic' 0]\n",
      "\n",
      "Contract\n",
      "['Month-to-month' 'One year' 'Two year']\n",
      "\n",
      "PaymentMethod\n",
      "['Electronic check' 'Mailed check' 'Bank transfer (automatic)'\n",
      " 'Credit card (automatic)']\n",
      "\n"
     ]
    },
    {
     "name": "stderr",
     "output_type": "stream",
     "text": [
      "<ipython-input-21-907ee543b166>:3: DeprecationWarning: `np.object` is a deprecated alias for the builtin `object`. To silence this warning, use `object` by itself. Doing this will not modify any behavior and is safe. \n",
      "Deprecated in NumPy 1.20; for more details and guidance: https://numpy.org/devdocs/release/1.20.0-notes.html#deprecations\n",
      "  if(report[col].dtype == np.object):\n"
     ]
    }
   ],
   "source": [
    "categorical(report)"
   ]
  },
  {
   "cell_type": "markdown",
   "id": "e8874f37",
   "metadata": {},
   "source": [
    "Out of left columns, only three are categorical and they can be changed by One-Hot Encoding"
   ]
  },
  {
   "cell_type": "code",
   "execution_count": 29,
   "id": "60db0070",
   "metadata": {},
   "outputs": [],
   "source": [
    "report = pd.get_dummies(data = report, columns = ['InternetService', 'Contract', 'PaymentMethod'])"
   ]
  },
  {
   "cell_type": "code",
   "execution_count": 30,
   "id": "c5446f73",
   "metadata": {},
   "outputs": [
    {
     "data": {
      "text/html": [
       "<div>\n",
       "<style scoped>\n",
       "    .dataframe tbody tr th:only-of-type {\n",
       "        vertical-align: middle;\n",
       "    }\n",
       "\n",
       "    .dataframe tbody tr th {\n",
       "        vertical-align: top;\n",
       "    }\n",
       "\n",
       "    .dataframe thead th {\n",
       "        text-align: right;\n",
       "    }\n",
       "</style>\n",
       "<table border=\"1\" class=\"dataframe\">\n",
       "  <thead>\n",
       "    <tr style=\"text-align: right;\">\n",
       "      <th></th>\n",
       "      <th>gender</th>\n",
       "      <th>SeniorCitizen</th>\n",
       "      <th>Partner</th>\n",
       "      <th>Dependents</th>\n",
       "      <th>tenure</th>\n",
       "      <th>PhoneService</th>\n",
       "      <th>MultipleLines</th>\n",
       "      <th>OnlineSecurity</th>\n",
       "      <th>OnlineBackup</th>\n",
       "      <th>DeviceProtection</th>\n",
       "      <th>...</th>\n",
       "      <th>InternetService_0</th>\n",
       "      <th>InternetService_DSL</th>\n",
       "      <th>InternetService_Fiber optic</th>\n",
       "      <th>Contract_Month-to-month</th>\n",
       "      <th>Contract_One year</th>\n",
       "      <th>Contract_Two year</th>\n",
       "      <th>PaymentMethod_Bank transfer (automatic)</th>\n",
       "      <th>PaymentMethod_Credit card (automatic)</th>\n",
       "      <th>PaymentMethod_Electronic check</th>\n",
       "      <th>PaymentMethod_Mailed check</th>\n",
       "    </tr>\n",
       "  </thead>\n",
       "  <tbody>\n",
       "    <tr>\n",
       "      <th>0</th>\n",
       "      <td>0</td>\n",
       "      <td>0</td>\n",
       "      <td>1</td>\n",
       "      <td>0</td>\n",
       "      <td>1</td>\n",
       "      <td>0</td>\n",
       "      <td>0</td>\n",
       "      <td>0</td>\n",
       "      <td>1</td>\n",
       "      <td>0</td>\n",
       "      <td>...</td>\n",
       "      <td>0</td>\n",
       "      <td>1</td>\n",
       "      <td>0</td>\n",
       "      <td>1</td>\n",
       "      <td>0</td>\n",
       "      <td>0</td>\n",
       "      <td>0</td>\n",
       "      <td>0</td>\n",
       "      <td>1</td>\n",
       "      <td>0</td>\n",
       "    </tr>\n",
       "    <tr>\n",
       "      <th>1</th>\n",
       "      <td>1</td>\n",
       "      <td>0</td>\n",
       "      <td>0</td>\n",
       "      <td>0</td>\n",
       "      <td>34</td>\n",
       "      <td>1</td>\n",
       "      <td>0</td>\n",
       "      <td>1</td>\n",
       "      <td>0</td>\n",
       "      <td>1</td>\n",
       "      <td>...</td>\n",
       "      <td>0</td>\n",
       "      <td>1</td>\n",
       "      <td>0</td>\n",
       "      <td>0</td>\n",
       "      <td>1</td>\n",
       "      <td>0</td>\n",
       "      <td>0</td>\n",
       "      <td>0</td>\n",
       "      <td>0</td>\n",
       "      <td>1</td>\n",
       "    </tr>\n",
       "    <tr>\n",
       "      <th>2</th>\n",
       "      <td>1</td>\n",
       "      <td>0</td>\n",
       "      <td>0</td>\n",
       "      <td>0</td>\n",
       "      <td>2</td>\n",
       "      <td>1</td>\n",
       "      <td>0</td>\n",
       "      <td>1</td>\n",
       "      <td>1</td>\n",
       "      <td>0</td>\n",
       "      <td>...</td>\n",
       "      <td>0</td>\n",
       "      <td>1</td>\n",
       "      <td>0</td>\n",
       "      <td>1</td>\n",
       "      <td>0</td>\n",
       "      <td>0</td>\n",
       "      <td>0</td>\n",
       "      <td>0</td>\n",
       "      <td>0</td>\n",
       "      <td>1</td>\n",
       "    </tr>\n",
       "    <tr>\n",
       "      <th>3</th>\n",
       "      <td>1</td>\n",
       "      <td>0</td>\n",
       "      <td>0</td>\n",
       "      <td>0</td>\n",
       "      <td>45</td>\n",
       "      <td>0</td>\n",
       "      <td>0</td>\n",
       "      <td>1</td>\n",
       "      <td>0</td>\n",
       "      <td>1</td>\n",
       "      <td>...</td>\n",
       "      <td>0</td>\n",
       "      <td>1</td>\n",
       "      <td>0</td>\n",
       "      <td>0</td>\n",
       "      <td>1</td>\n",
       "      <td>0</td>\n",
       "      <td>1</td>\n",
       "      <td>0</td>\n",
       "      <td>0</td>\n",
       "      <td>0</td>\n",
       "    </tr>\n",
       "    <tr>\n",
       "      <th>4</th>\n",
       "      <td>0</td>\n",
       "      <td>0</td>\n",
       "      <td>0</td>\n",
       "      <td>0</td>\n",
       "      <td>2</td>\n",
       "      <td>1</td>\n",
       "      <td>0</td>\n",
       "      <td>0</td>\n",
       "      <td>0</td>\n",
       "      <td>0</td>\n",
       "      <td>...</td>\n",
       "      <td>0</td>\n",
       "      <td>0</td>\n",
       "      <td>1</td>\n",
       "      <td>1</td>\n",
       "      <td>0</td>\n",
       "      <td>0</td>\n",
       "      <td>0</td>\n",
       "      <td>0</td>\n",
       "      <td>1</td>\n",
       "      <td>0</td>\n",
       "    </tr>\n",
       "  </tbody>\n",
       "</table>\n",
       "<p>5 rows × 27 columns</p>\n",
       "</div>"
      ],
      "text/plain": [
       "   gender  SeniorCitizen  Partner  Dependents  tenure  PhoneService  \\\n",
       "0       0              0        1           0       1             0   \n",
       "1       1              0        0           0      34             1   \n",
       "2       1              0        0           0       2             1   \n",
       "3       1              0        0           0      45             0   \n",
       "4       0              0        0           0       2             1   \n",
       "\n",
       "   MultipleLines  OnlineSecurity  OnlineBackup  DeviceProtection  ...  \\\n",
       "0              0               0             1                 0  ...   \n",
       "1              0               1             0                 1  ...   \n",
       "2              0               1             1                 0  ...   \n",
       "3              0               1             0                 1  ...   \n",
       "4              0               0             0                 0  ...   \n",
       "\n",
       "   InternetService_0  InternetService_DSL  InternetService_Fiber optic  \\\n",
       "0                  0                    1                            0   \n",
       "1                  0                    1                            0   \n",
       "2                  0                    1                            0   \n",
       "3                  0                    1                            0   \n",
       "4                  0                    0                            1   \n",
       "\n",
       "   Contract_Month-to-month  Contract_One year  Contract_Two year  \\\n",
       "0                        1                  0                  0   \n",
       "1                        0                  1                  0   \n",
       "2                        1                  0                  0   \n",
       "3                        0                  1                  0   \n",
       "4                        1                  0                  0   \n",
       "\n",
       "   PaymentMethod_Bank transfer (automatic)  \\\n",
       "0                                        0   \n",
       "1                                        0   \n",
       "2                                        0   \n",
       "3                                        1   \n",
       "4                                        0   \n",
       "\n",
       "   PaymentMethod_Credit card (automatic)  PaymentMethod_Electronic check  \\\n",
       "0                                      0                               1   \n",
       "1                                      0                               0   \n",
       "2                                      0                               0   \n",
       "3                                      0                               0   \n",
       "4                                      0                               1   \n",
       "\n",
       "   PaymentMethod_Mailed check  \n",
       "0                           0  \n",
       "1                           1  \n",
       "2                           1  \n",
       "3                           0  \n",
       "4                           0  \n",
       "\n",
       "[5 rows x 27 columns]"
      ]
     },
     "execution_count": 30,
     "metadata": {},
     "output_type": "execute_result"
    }
   ],
   "source": [
    "report.head()"
   ]
  },
  {
   "cell_type": "code",
   "execution_count": 31,
   "id": "c2ae2502",
   "metadata": {},
   "outputs": [
    {
     "name": "stdout",
     "output_type": "stream",
     "text": [
      "gender\n",
      "[0 1]\n",
      "----------------------------------------------------------------------------------------------------\n",
      "SeniorCitizen\n",
      "[0 1]\n",
      "----------------------------------------------------------------------------------------------------\n",
      "Partner\n",
      "[1 0]\n",
      "----------------------------------------------------------------------------------------------------\n",
      "Dependents\n",
      "[0 1]\n",
      "----------------------------------------------------------------------------------------------------\n",
      "tenure\n",
      "[ 1 34  2 45  8 22 10 28 62 13 16 58 49 25 69 52 71 21 12 30 47 72 17 27\n",
      "  5 46 11 70 63 43 15 60 18 66  9  3 31 50 64 56  7 42 35 48 29 65 38 68\n",
      " 32 55 37 36 41  6  4 33 67 23 57 61 14 20 53 40 59 24 44 19 54 51 26 39]\n",
      "----------------------------------------------------------------------------------------------------\n",
      "PhoneService\n",
      "[0 1]\n",
      "----------------------------------------------------------------------------------------------------\n",
      "MultipleLines\n",
      "[0 1]\n",
      "----------------------------------------------------------------------------------------------------\n",
      "OnlineSecurity\n",
      "[0 1]\n",
      "----------------------------------------------------------------------------------------------------\n",
      "OnlineBackup\n",
      "[1 0]\n",
      "----------------------------------------------------------------------------------------------------\n",
      "DeviceProtection\n",
      "[0 1]\n",
      "----------------------------------------------------------------------------------------------------\n",
      "TechSupport\n",
      "[0 1]\n",
      "----------------------------------------------------------------------------------------------------\n",
      "StreamingTV\n",
      "[0 1]\n",
      "----------------------------------------------------------------------------------------------------\n",
      "StreamingMovies\n",
      "[0 1]\n",
      "----------------------------------------------------------------------------------------------------\n",
      "PaperlessBilling\n",
      "[1 0]\n",
      "----------------------------------------------------------------------------------------------------\n",
      "MonthlyCharges\n",
      "[29.85 56.95 53.85 ... 63.1  44.2  78.7 ]\n",
      "----------------------------------------------------------------------------------------------------\n",
      "TotalCharges\n",
      "[  29.85 1889.5   108.15 ...  346.45  306.6  6844.5 ]\n",
      "----------------------------------------------------------------------------------------------------\n",
      "Churn\n",
      "[0 1]\n",
      "----------------------------------------------------------------------------------------------------\n",
      "InternetService_0\n",
      "[0 1]\n",
      "----------------------------------------------------------------------------------------------------\n",
      "InternetService_DSL\n",
      "[1 0]\n",
      "----------------------------------------------------------------------------------------------------\n",
      "InternetService_Fiber optic\n",
      "[0 1]\n",
      "----------------------------------------------------------------------------------------------------\n",
      "Contract_Month-to-month\n",
      "[1 0]\n",
      "----------------------------------------------------------------------------------------------------\n",
      "Contract_One year\n",
      "[0 1]\n",
      "----------------------------------------------------------------------------------------------------\n",
      "Contract_Two year\n",
      "[0 1]\n",
      "----------------------------------------------------------------------------------------------------\n",
      "PaymentMethod_Bank transfer (automatic)\n",
      "[0 1]\n",
      "----------------------------------------------------------------------------------------------------\n",
      "PaymentMethod_Credit card (automatic)\n",
      "[0 1]\n",
      "----------------------------------------------------------------------------------------------------\n",
      "PaymentMethod_Electronic check\n",
      "[1 0]\n",
      "----------------------------------------------------------------------------------------------------\n",
      "PaymentMethod_Mailed check\n",
      "[0 1]\n",
      "----------------------------------------------------------------------------------------------------\n"
     ]
    }
   ],
   "source": [
    "for i in report.columns:\n",
    "    print(i)\n",
    "    print(report[i].unique())\n",
    "    print('-'*100)"
   ]
  },
  {
   "cell_type": "code",
   "execution_count": 32,
   "id": "d97fd2df",
   "metadata": {},
   "outputs": [
    {
     "data": {
      "text/plain": [
       "gender                                     0\n",
       "SeniorCitizen                              0\n",
       "Partner                                    0\n",
       "Dependents                                 0\n",
       "tenure                                     0\n",
       "PhoneService                               0\n",
       "MultipleLines                              0\n",
       "OnlineSecurity                             0\n",
       "OnlineBackup                               0\n",
       "DeviceProtection                           0\n",
       "TechSupport                                0\n",
       "StreamingTV                                0\n",
       "StreamingMovies                            0\n",
       "PaperlessBilling                           0\n",
       "MonthlyCharges                             0\n",
       "TotalCharges                               0\n",
       "Churn                                      0\n",
       "InternetService_0                          0\n",
       "InternetService_DSL                        0\n",
       "InternetService_Fiber optic                0\n",
       "Contract_Month-to-month                    0\n",
       "Contract_One year                          0\n",
       "Contract_Two year                          0\n",
       "PaymentMethod_Bank transfer (automatic)    0\n",
       "PaymentMethod_Credit card (automatic)      0\n",
       "PaymentMethod_Electronic check             0\n",
       "PaymentMethod_Mailed check                 0\n",
       "dtype: int64"
      ]
     },
     "execution_count": 32,
     "metadata": {},
     "output_type": "execute_result"
    }
   ],
   "source": [
    "report.isnull().sum()"
   ]
  },
  {
   "cell_type": "code",
   "execution_count": 33,
   "id": "9549ff66",
   "metadata": {},
   "outputs": [
    {
     "data": {
      "text/plain": [
       "gender                                       int64\n",
       "SeniorCitizen                                int64\n",
       "Partner                                      int64\n",
       "Dependents                                   int64\n",
       "tenure                                       int64\n",
       "PhoneService                                 int64\n",
       "MultipleLines                                int64\n",
       "OnlineSecurity                               int64\n",
       "OnlineBackup                                 int64\n",
       "DeviceProtection                             int64\n",
       "TechSupport                                  int64\n",
       "StreamingTV                                  int64\n",
       "StreamingMovies                              int64\n",
       "PaperlessBilling                             int64\n",
       "MonthlyCharges                             float64\n",
       "TotalCharges                               float64\n",
       "Churn                                        int64\n",
       "InternetService_0                            uint8\n",
       "InternetService_DSL                          uint8\n",
       "InternetService_Fiber optic                  uint8\n",
       "Contract_Month-to-month                      uint8\n",
       "Contract_One year                            uint8\n",
       "Contract_Two year                            uint8\n",
       "PaymentMethod_Bank transfer (automatic)      uint8\n",
       "PaymentMethod_Credit card (automatic)        uint8\n",
       "PaymentMethod_Electronic check               uint8\n",
       "PaymentMethod_Mailed check                   uint8\n",
       "dtype: object"
      ]
     },
     "execution_count": 33,
     "metadata": {},
     "output_type": "execute_result"
    }
   ],
   "source": [
    "report.dtypes"
   ]
  },
  {
   "cell_type": "markdown",
   "id": "da73502b",
   "metadata": {},
   "source": [
    "### Separating dependent and independent variables"
   ]
  },
  {
   "cell_type": "code",
   "execution_count": 34,
   "id": "cdef33f1",
   "metadata": {},
   "outputs": [],
   "source": [
    "X = report.drop([\"Churn\"], axis = 1)\n",
    "y = report[\"Churn\"]"
   ]
  },
  {
   "cell_type": "code",
   "execution_count": 35,
   "id": "07718c62",
   "metadata": {},
   "outputs": [
    {
     "data": {
      "text/html": [
       "<div>\n",
       "<style scoped>\n",
       "    .dataframe tbody tr th:only-of-type {\n",
       "        vertical-align: middle;\n",
       "    }\n",
       "\n",
       "    .dataframe tbody tr th {\n",
       "        vertical-align: top;\n",
       "    }\n",
       "\n",
       "    .dataframe thead th {\n",
       "        text-align: right;\n",
       "    }\n",
       "</style>\n",
       "<table border=\"1\" class=\"dataframe\">\n",
       "  <thead>\n",
       "    <tr style=\"text-align: right;\">\n",
       "      <th></th>\n",
       "      <th>gender</th>\n",
       "      <th>SeniorCitizen</th>\n",
       "      <th>Partner</th>\n",
       "      <th>Dependents</th>\n",
       "      <th>tenure</th>\n",
       "      <th>PhoneService</th>\n",
       "      <th>MultipleLines</th>\n",
       "      <th>OnlineSecurity</th>\n",
       "      <th>OnlineBackup</th>\n",
       "      <th>DeviceProtection</th>\n",
       "      <th>...</th>\n",
       "      <th>InternetService_0</th>\n",
       "      <th>InternetService_DSL</th>\n",
       "      <th>InternetService_Fiber optic</th>\n",
       "      <th>Contract_Month-to-month</th>\n",
       "      <th>Contract_One year</th>\n",
       "      <th>Contract_Two year</th>\n",
       "      <th>PaymentMethod_Bank transfer (automatic)</th>\n",
       "      <th>PaymentMethod_Credit card (automatic)</th>\n",
       "      <th>PaymentMethod_Electronic check</th>\n",
       "      <th>PaymentMethod_Mailed check</th>\n",
       "    </tr>\n",
       "  </thead>\n",
       "  <tbody>\n",
       "    <tr>\n",
       "      <th>0</th>\n",
       "      <td>0</td>\n",
       "      <td>0</td>\n",
       "      <td>1</td>\n",
       "      <td>0</td>\n",
       "      <td>1</td>\n",
       "      <td>0</td>\n",
       "      <td>0</td>\n",
       "      <td>0</td>\n",
       "      <td>1</td>\n",
       "      <td>0</td>\n",
       "      <td>...</td>\n",
       "      <td>0</td>\n",
       "      <td>1</td>\n",
       "      <td>0</td>\n",
       "      <td>1</td>\n",
       "      <td>0</td>\n",
       "      <td>0</td>\n",
       "      <td>0</td>\n",
       "      <td>0</td>\n",
       "      <td>1</td>\n",
       "      <td>0</td>\n",
       "    </tr>\n",
       "    <tr>\n",
       "      <th>1</th>\n",
       "      <td>1</td>\n",
       "      <td>0</td>\n",
       "      <td>0</td>\n",
       "      <td>0</td>\n",
       "      <td>34</td>\n",
       "      <td>1</td>\n",
       "      <td>0</td>\n",
       "      <td>1</td>\n",
       "      <td>0</td>\n",
       "      <td>1</td>\n",
       "      <td>...</td>\n",
       "      <td>0</td>\n",
       "      <td>1</td>\n",
       "      <td>0</td>\n",
       "      <td>0</td>\n",
       "      <td>1</td>\n",
       "      <td>0</td>\n",
       "      <td>0</td>\n",
       "      <td>0</td>\n",
       "      <td>0</td>\n",
       "      <td>1</td>\n",
       "    </tr>\n",
       "    <tr>\n",
       "      <th>2</th>\n",
       "      <td>1</td>\n",
       "      <td>0</td>\n",
       "      <td>0</td>\n",
       "      <td>0</td>\n",
       "      <td>2</td>\n",
       "      <td>1</td>\n",
       "      <td>0</td>\n",
       "      <td>1</td>\n",
       "      <td>1</td>\n",
       "      <td>0</td>\n",
       "      <td>...</td>\n",
       "      <td>0</td>\n",
       "      <td>1</td>\n",
       "      <td>0</td>\n",
       "      <td>1</td>\n",
       "      <td>0</td>\n",
       "      <td>0</td>\n",
       "      <td>0</td>\n",
       "      <td>0</td>\n",
       "      <td>0</td>\n",
       "      <td>1</td>\n",
       "    </tr>\n",
       "    <tr>\n",
       "      <th>3</th>\n",
       "      <td>1</td>\n",
       "      <td>0</td>\n",
       "      <td>0</td>\n",
       "      <td>0</td>\n",
       "      <td>45</td>\n",
       "      <td>0</td>\n",
       "      <td>0</td>\n",
       "      <td>1</td>\n",
       "      <td>0</td>\n",
       "      <td>1</td>\n",
       "      <td>...</td>\n",
       "      <td>0</td>\n",
       "      <td>1</td>\n",
       "      <td>0</td>\n",
       "      <td>0</td>\n",
       "      <td>1</td>\n",
       "      <td>0</td>\n",
       "      <td>1</td>\n",
       "      <td>0</td>\n",
       "      <td>0</td>\n",
       "      <td>0</td>\n",
       "    </tr>\n",
       "    <tr>\n",
       "      <th>4</th>\n",
       "      <td>0</td>\n",
       "      <td>0</td>\n",
       "      <td>0</td>\n",
       "      <td>0</td>\n",
       "      <td>2</td>\n",
       "      <td>1</td>\n",
       "      <td>0</td>\n",
       "      <td>0</td>\n",
       "      <td>0</td>\n",
       "      <td>0</td>\n",
       "      <td>...</td>\n",
       "      <td>0</td>\n",
       "      <td>0</td>\n",
       "      <td>1</td>\n",
       "      <td>1</td>\n",
       "      <td>0</td>\n",
       "      <td>0</td>\n",
       "      <td>0</td>\n",
       "      <td>0</td>\n",
       "      <td>1</td>\n",
       "      <td>0</td>\n",
       "    </tr>\n",
       "    <tr>\n",
       "      <th>...</th>\n",
       "      <td>...</td>\n",
       "      <td>...</td>\n",
       "      <td>...</td>\n",
       "      <td>...</td>\n",
       "      <td>...</td>\n",
       "      <td>...</td>\n",
       "      <td>...</td>\n",
       "      <td>...</td>\n",
       "      <td>...</td>\n",
       "      <td>...</td>\n",
       "      <td>...</td>\n",
       "      <td>...</td>\n",
       "      <td>...</td>\n",
       "      <td>...</td>\n",
       "      <td>...</td>\n",
       "      <td>...</td>\n",
       "      <td>...</td>\n",
       "      <td>...</td>\n",
       "      <td>...</td>\n",
       "      <td>...</td>\n",
       "      <td>...</td>\n",
       "    </tr>\n",
       "    <tr>\n",
       "      <th>7038</th>\n",
       "      <td>1</td>\n",
       "      <td>0</td>\n",
       "      <td>1</td>\n",
       "      <td>1</td>\n",
       "      <td>24</td>\n",
       "      <td>1</td>\n",
       "      <td>1</td>\n",
       "      <td>1</td>\n",
       "      <td>0</td>\n",
       "      <td>1</td>\n",
       "      <td>...</td>\n",
       "      <td>0</td>\n",
       "      <td>1</td>\n",
       "      <td>0</td>\n",
       "      <td>0</td>\n",
       "      <td>1</td>\n",
       "      <td>0</td>\n",
       "      <td>0</td>\n",
       "      <td>0</td>\n",
       "      <td>0</td>\n",
       "      <td>1</td>\n",
       "    </tr>\n",
       "    <tr>\n",
       "      <th>7039</th>\n",
       "      <td>0</td>\n",
       "      <td>0</td>\n",
       "      <td>1</td>\n",
       "      <td>1</td>\n",
       "      <td>72</td>\n",
       "      <td>1</td>\n",
       "      <td>1</td>\n",
       "      <td>0</td>\n",
       "      <td>1</td>\n",
       "      <td>1</td>\n",
       "      <td>...</td>\n",
       "      <td>0</td>\n",
       "      <td>0</td>\n",
       "      <td>1</td>\n",
       "      <td>0</td>\n",
       "      <td>1</td>\n",
       "      <td>0</td>\n",
       "      <td>0</td>\n",
       "      <td>1</td>\n",
       "      <td>0</td>\n",
       "      <td>0</td>\n",
       "    </tr>\n",
       "    <tr>\n",
       "      <th>7040</th>\n",
       "      <td>0</td>\n",
       "      <td>0</td>\n",
       "      <td>1</td>\n",
       "      <td>1</td>\n",
       "      <td>11</td>\n",
       "      <td>0</td>\n",
       "      <td>0</td>\n",
       "      <td>1</td>\n",
       "      <td>0</td>\n",
       "      <td>0</td>\n",
       "      <td>...</td>\n",
       "      <td>0</td>\n",
       "      <td>1</td>\n",
       "      <td>0</td>\n",
       "      <td>1</td>\n",
       "      <td>0</td>\n",
       "      <td>0</td>\n",
       "      <td>0</td>\n",
       "      <td>0</td>\n",
       "      <td>1</td>\n",
       "      <td>0</td>\n",
       "    </tr>\n",
       "    <tr>\n",
       "      <th>7041</th>\n",
       "      <td>1</td>\n",
       "      <td>1</td>\n",
       "      <td>1</td>\n",
       "      <td>0</td>\n",
       "      <td>4</td>\n",
       "      <td>1</td>\n",
       "      <td>1</td>\n",
       "      <td>0</td>\n",
       "      <td>0</td>\n",
       "      <td>0</td>\n",
       "      <td>...</td>\n",
       "      <td>0</td>\n",
       "      <td>0</td>\n",
       "      <td>1</td>\n",
       "      <td>1</td>\n",
       "      <td>0</td>\n",
       "      <td>0</td>\n",
       "      <td>0</td>\n",
       "      <td>0</td>\n",
       "      <td>0</td>\n",
       "      <td>1</td>\n",
       "    </tr>\n",
       "    <tr>\n",
       "      <th>7042</th>\n",
       "      <td>1</td>\n",
       "      <td>0</td>\n",
       "      <td>0</td>\n",
       "      <td>0</td>\n",
       "      <td>66</td>\n",
       "      <td>1</td>\n",
       "      <td>0</td>\n",
       "      <td>1</td>\n",
       "      <td>0</td>\n",
       "      <td>1</td>\n",
       "      <td>...</td>\n",
       "      <td>0</td>\n",
       "      <td>0</td>\n",
       "      <td>1</td>\n",
       "      <td>0</td>\n",
       "      <td>0</td>\n",
       "      <td>1</td>\n",
       "      <td>1</td>\n",
       "      <td>0</td>\n",
       "      <td>0</td>\n",
       "      <td>0</td>\n",
       "    </tr>\n",
       "  </tbody>\n",
       "</table>\n",
       "<p>7032 rows × 26 columns</p>\n",
       "</div>"
      ],
      "text/plain": [
       "      gender  SeniorCitizen  Partner  Dependents  tenure  PhoneService  \\\n",
       "0          0              0        1           0       1             0   \n",
       "1          1              0        0           0      34             1   \n",
       "2          1              0        0           0       2             1   \n",
       "3          1              0        0           0      45             0   \n",
       "4          0              0        0           0       2             1   \n",
       "...      ...            ...      ...         ...     ...           ...   \n",
       "7038       1              0        1           1      24             1   \n",
       "7039       0              0        1           1      72             1   \n",
       "7040       0              0        1           1      11             0   \n",
       "7041       1              1        1           0       4             1   \n",
       "7042       1              0        0           0      66             1   \n",
       "\n",
       "      MultipleLines  OnlineSecurity  OnlineBackup  DeviceProtection  ...  \\\n",
       "0                 0               0             1                 0  ...   \n",
       "1                 0               1             0                 1  ...   \n",
       "2                 0               1             1                 0  ...   \n",
       "3                 0               1             0                 1  ...   \n",
       "4                 0               0             0                 0  ...   \n",
       "...             ...             ...           ...               ...  ...   \n",
       "7038              1               1             0                 1  ...   \n",
       "7039              1               0             1                 1  ...   \n",
       "7040              0               1             0                 0  ...   \n",
       "7041              1               0             0                 0  ...   \n",
       "7042              0               1             0                 1  ...   \n",
       "\n",
       "      InternetService_0  InternetService_DSL  InternetService_Fiber optic  \\\n",
       "0                     0                    1                            0   \n",
       "1                     0                    1                            0   \n",
       "2                     0                    1                            0   \n",
       "3                     0                    1                            0   \n",
       "4                     0                    0                            1   \n",
       "...                 ...                  ...                          ...   \n",
       "7038                  0                    1                            0   \n",
       "7039                  0                    0                            1   \n",
       "7040                  0                    1                            0   \n",
       "7041                  0                    0                            1   \n",
       "7042                  0                    0                            1   \n",
       "\n",
       "      Contract_Month-to-month  Contract_One year  Contract_Two year  \\\n",
       "0                           1                  0                  0   \n",
       "1                           0                  1                  0   \n",
       "2                           1                  0                  0   \n",
       "3                           0                  1                  0   \n",
       "4                           1                  0                  0   \n",
       "...                       ...                ...                ...   \n",
       "7038                        0                  1                  0   \n",
       "7039                        0                  1                  0   \n",
       "7040                        1                  0                  0   \n",
       "7041                        1                  0                  0   \n",
       "7042                        0                  0                  1   \n",
       "\n",
       "      PaymentMethod_Bank transfer (automatic)  \\\n",
       "0                                           0   \n",
       "1                                           0   \n",
       "2                                           0   \n",
       "3                                           1   \n",
       "4                                           0   \n",
       "...                                       ...   \n",
       "7038                                        0   \n",
       "7039                                        0   \n",
       "7040                                        0   \n",
       "7041                                        0   \n",
       "7042                                        1   \n",
       "\n",
       "      PaymentMethod_Credit card (automatic)  PaymentMethod_Electronic check  \\\n",
       "0                                         0                               1   \n",
       "1                                         0                               0   \n",
       "2                                         0                               0   \n",
       "3                                         0                               0   \n",
       "4                                         0                               1   \n",
       "...                                     ...                             ...   \n",
       "7038                                      0                               0   \n",
       "7039                                      1                               0   \n",
       "7040                                      0                               1   \n",
       "7041                                      0                               0   \n",
       "7042                                      0                               0   \n",
       "\n",
       "      PaymentMethod_Mailed check  \n",
       "0                              0  \n",
       "1                              1  \n",
       "2                              1  \n",
       "3                              0  \n",
       "4                              0  \n",
       "...                          ...  \n",
       "7038                           1  \n",
       "7039                           0  \n",
       "7040                           0  \n",
       "7041                           1  \n",
       "7042                           0  \n",
       "\n",
       "[7032 rows x 26 columns]"
      ]
     },
     "execution_count": 35,
     "metadata": {},
     "output_type": "execute_result"
    }
   ],
   "source": [
    "X"
   ]
  },
  {
   "cell_type": "code",
   "execution_count": 36,
   "id": "dfc42fc5",
   "metadata": {},
   "outputs": [
    {
     "data": {
      "text/plain": [
       "0       0\n",
       "1       0\n",
       "2       1\n",
       "3       0\n",
       "4       1\n",
       "       ..\n",
       "7038    0\n",
       "7039    0\n",
       "7040    0\n",
       "7041    1\n",
       "7042    0\n",
       "Name: Churn, Length: 7032, dtype: int64"
      ]
     },
     "execution_count": 36,
     "metadata": {},
     "output_type": "execute_result"
    }
   ],
   "source": [
    "y"
   ]
  },
  {
   "cell_type": "markdown",
   "id": "a3fbf3e6",
   "metadata": {},
   "source": [
    "### Training and testing set"
   ]
  },
  {
   "cell_type": "code",
   "execution_count": 37,
   "id": "be9f5844",
   "metadata": {},
   "outputs": [],
   "source": [
    "X_train, X_test, y_train, y_test = train_test_split(X, y, test_size = 0.2, random_state = 42)"
   ]
  },
  {
   "cell_type": "code",
   "execution_count": 38,
   "id": "d9ff7e76",
   "metadata": {},
   "outputs": [
    {
     "data": {
      "text/html": [
       "<div>\n",
       "<style scoped>\n",
       "    .dataframe tbody tr th:only-of-type {\n",
       "        vertical-align: middle;\n",
       "    }\n",
       "\n",
       "    .dataframe tbody tr th {\n",
       "        vertical-align: top;\n",
       "    }\n",
       "\n",
       "    .dataframe thead th {\n",
       "        text-align: right;\n",
       "    }\n",
       "</style>\n",
       "<table border=\"1\" class=\"dataframe\">\n",
       "  <thead>\n",
       "    <tr style=\"text-align: right;\">\n",
       "      <th></th>\n",
       "      <th>gender</th>\n",
       "      <th>SeniorCitizen</th>\n",
       "      <th>Partner</th>\n",
       "      <th>Dependents</th>\n",
       "      <th>tenure</th>\n",
       "      <th>PhoneService</th>\n",
       "      <th>MultipleLines</th>\n",
       "      <th>OnlineSecurity</th>\n",
       "      <th>OnlineBackup</th>\n",
       "      <th>DeviceProtection</th>\n",
       "      <th>...</th>\n",
       "      <th>InternetService_0</th>\n",
       "      <th>InternetService_DSL</th>\n",
       "      <th>InternetService_Fiber optic</th>\n",
       "      <th>Contract_Month-to-month</th>\n",
       "      <th>Contract_One year</th>\n",
       "      <th>Contract_Two year</th>\n",
       "      <th>PaymentMethod_Bank transfer (automatic)</th>\n",
       "      <th>PaymentMethod_Credit card (automatic)</th>\n",
       "      <th>PaymentMethod_Electronic check</th>\n",
       "      <th>PaymentMethod_Mailed check</th>\n",
       "    </tr>\n",
       "  </thead>\n",
       "  <tbody>\n",
       "    <tr>\n",
       "      <th>6030</th>\n",
       "      <td>0</td>\n",
       "      <td>0</td>\n",
       "      <td>0</td>\n",
       "      <td>0</td>\n",
       "      <td>43</td>\n",
       "      <td>0</td>\n",
       "      <td>0</td>\n",
       "      <td>0</td>\n",
       "      <td>0</td>\n",
       "      <td>1</td>\n",
       "      <td>...</td>\n",
       "      <td>0</td>\n",
       "      <td>1</td>\n",
       "      <td>0</td>\n",
       "      <td>1</td>\n",
       "      <td>0</td>\n",
       "      <td>0</td>\n",
       "      <td>1</td>\n",
       "      <td>0</td>\n",
       "      <td>0</td>\n",
       "      <td>0</td>\n",
       "    </tr>\n",
       "    <tr>\n",
       "      <th>3410</th>\n",
       "      <td>1</td>\n",
       "      <td>0</td>\n",
       "      <td>0</td>\n",
       "      <td>0</td>\n",
       "      <td>3</td>\n",
       "      <td>1</td>\n",
       "      <td>0</td>\n",
       "      <td>0</td>\n",
       "      <td>0</td>\n",
       "      <td>0</td>\n",
       "      <td>...</td>\n",
       "      <td>0</td>\n",
       "      <td>1</td>\n",
       "      <td>0</td>\n",
       "      <td>1</td>\n",
       "      <td>0</td>\n",
       "      <td>0</td>\n",
       "      <td>0</td>\n",
       "      <td>1</td>\n",
       "      <td>0</td>\n",
       "      <td>0</td>\n",
       "    </tr>\n",
       "    <tr>\n",
       "      <th>5483</th>\n",
       "      <td>0</td>\n",
       "      <td>0</td>\n",
       "      <td>1</td>\n",
       "      <td>0</td>\n",
       "      <td>55</td>\n",
       "      <td>1</td>\n",
       "      <td>1</td>\n",
       "      <td>0</td>\n",
       "      <td>0</td>\n",
       "      <td>1</td>\n",
       "      <td>...</td>\n",
       "      <td>0</td>\n",
       "      <td>0</td>\n",
       "      <td>1</td>\n",
       "      <td>1</td>\n",
       "      <td>0</td>\n",
       "      <td>0</td>\n",
       "      <td>0</td>\n",
       "      <td>0</td>\n",
       "      <td>1</td>\n",
       "      <td>0</td>\n",
       "    </tr>\n",
       "    <tr>\n",
       "      <th>5524</th>\n",
       "      <td>1</td>\n",
       "      <td>0</td>\n",
       "      <td>1</td>\n",
       "      <td>1</td>\n",
       "      <td>45</td>\n",
       "      <td>1</td>\n",
       "      <td>0</td>\n",
       "      <td>1</td>\n",
       "      <td>0</td>\n",
       "      <td>0</td>\n",
       "      <td>...</td>\n",
       "      <td>0</td>\n",
       "      <td>1</td>\n",
       "      <td>0</td>\n",
       "      <td>0</td>\n",
       "      <td>0</td>\n",
       "      <td>1</td>\n",
       "      <td>1</td>\n",
       "      <td>0</td>\n",
       "      <td>0</td>\n",
       "      <td>0</td>\n",
       "    </tr>\n",
       "    <tr>\n",
       "      <th>6337</th>\n",
       "      <td>0</td>\n",
       "      <td>0</td>\n",
       "      <td>1</td>\n",
       "      <td>1</td>\n",
       "      <td>55</td>\n",
       "      <td>1</td>\n",
       "      <td>1</td>\n",
       "      <td>1</td>\n",
       "      <td>0</td>\n",
       "      <td>0</td>\n",
       "      <td>...</td>\n",
       "      <td>0</td>\n",
       "      <td>0</td>\n",
       "      <td>1</td>\n",
       "      <td>0</td>\n",
       "      <td>1</td>\n",
       "      <td>0</td>\n",
       "      <td>0</td>\n",
       "      <td>0</td>\n",
       "      <td>0</td>\n",
       "      <td>1</td>\n",
       "    </tr>\n",
       "    <tr>\n",
       "      <th>...</th>\n",
       "      <td>...</td>\n",
       "      <td>...</td>\n",
       "      <td>...</td>\n",
       "      <td>...</td>\n",
       "      <td>...</td>\n",
       "      <td>...</td>\n",
       "      <td>...</td>\n",
       "      <td>...</td>\n",
       "      <td>...</td>\n",
       "      <td>...</td>\n",
       "      <td>...</td>\n",
       "      <td>...</td>\n",
       "      <td>...</td>\n",
       "      <td>...</td>\n",
       "      <td>...</td>\n",
       "      <td>...</td>\n",
       "      <td>...</td>\n",
       "      <td>...</td>\n",
       "      <td>...</td>\n",
       "      <td>...</td>\n",
       "      <td>...</td>\n",
       "    </tr>\n",
       "    <tr>\n",
       "      <th>3778</th>\n",
       "      <td>1</td>\n",
       "      <td>0</td>\n",
       "      <td>0</td>\n",
       "      <td>0</td>\n",
       "      <td>3</td>\n",
       "      <td>1</td>\n",
       "      <td>1</td>\n",
       "      <td>0</td>\n",
       "      <td>0</td>\n",
       "      <td>0</td>\n",
       "      <td>...</td>\n",
       "      <td>0</td>\n",
       "      <td>1</td>\n",
       "      <td>0</td>\n",
       "      <td>1</td>\n",
       "      <td>0</td>\n",
       "      <td>0</td>\n",
       "      <td>1</td>\n",
       "      <td>0</td>\n",
       "      <td>0</td>\n",
       "      <td>0</td>\n",
       "    </tr>\n",
       "    <tr>\n",
       "      <th>5199</th>\n",
       "      <td>0</td>\n",
       "      <td>0</td>\n",
       "      <td>0</td>\n",
       "      <td>0</td>\n",
       "      <td>51</td>\n",
       "      <td>1</td>\n",
       "      <td>1</td>\n",
       "      <td>0</td>\n",
       "      <td>1</td>\n",
       "      <td>1</td>\n",
       "      <td>...</td>\n",
       "      <td>0</td>\n",
       "      <td>0</td>\n",
       "      <td>1</td>\n",
       "      <td>0</td>\n",
       "      <td>1</td>\n",
       "      <td>0</td>\n",
       "      <td>0</td>\n",
       "      <td>0</td>\n",
       "      <td>1</td>\n",
       "      <td>0</td>\n",
       "    </tr>\n",
       "    <tr>\n",
       "      <th>5235</th>\n",
       "      <td>1</td>\n",
       "      <td>0</td>\n",
       "      <td>0</td>\n",
       "      <td>0</td>\n",
       "      <td>9</td>\n",
       "      <td>1</td>\n",
       "      <td>1</td>\n",
       "      <td>1</td>\n",
       "      <td>0</td>\n",
       "      <td>0</td>\n",
       "      <td>...</td>\n",
       "      <td>0</td>\n",
       "      <td>0</td>\n",
       "      <td>1</td>\n",
       "      <td>1</td>\n",
       "      <td>0</td>\n",
       "      <td>0</td>\n",
       "      <td>0</td>\n",
       "      <td>0</td>\n",
       "      <td>1</td>\n",
       "      <td>0</td>\n",
       "    </tr>\n",
       "    <tr>\n",
       "      <th>5399</th>\n",
       "      <td>0</td>\n",
       "      <td>0</td>\n",
       "      <td>0</td>\n",
       "      <td>0</td>\n",
       "      <td>50</td>\n",
       "      <td>1</td>\n",
       "      <td>0</td>\n",
       "      <td>0</td>\n",
       "      <td>0</td>\n",
       "      <td>0</td>\n",
       "      <td>...</td>\n",
       "      <td>1</td>\n",
       "      <td>0</td>\n",
       "      <td>0</td>\n",
       "      <td>0</td>\n",
       "      <td>1</td>\n",
       "      <td>0</td>\n",
       "      <td>1</td>\n",
       "      <td>0</td>\n",
       "      <td>0</td>\n",
       "      <td>0</td>\n",
       "    </tr>\n",
       "    <tr>\n",
       "      <th>862</th>\n",
       "      <td>1</td>\n",
       "      <td>1</td>\n",
       "      <td>1</td>\n",
       "      <td>0</td>\n",
       "      <td>20</td>\n",
       "      <td>1</td>\n",
       "      <td>0</td>\n",
       "      <td>0</td>\n",
       "      <td>1</td>\n",
       "      <td>0</td>\n",
       "      <td>...</td>\n",
       "      <td>0</td>\n",
       "      <td>0</td>\n",
       "      <td>1</td>\n",
       "      <td>1</td>\n",
       "      <td>0</td>\n",
       "      <td>0</td>\n",
       "      <td>0</td>\n",
       "      <td>0</td>\n",
       "      <td>1</td>\n",
       "      <td>0</td>\n",
       "    </tr>\n",
       "  </tbody>\n",
       "</table>\n",
       "<p>5625 rows × 26 columns</p>\n",
       "</div>"
      ],
      "text/plain": [
       "      gender  SeniorCitizen  Partner  Dependents  tenure  PhoneService  \\\n",
       "6030       0              0        0           0      43             0   \n",
       "3410       1              0        0           0       3             1   \n",
       "5483       0              0        1           0      55             1   \n",
       "5524       1              0        1           1      45             1   \n",
       "6337       0              0        1           1      55             1   \n",
       "...      ...            ...      ...         ...     ...           ...   \n",
       "3778       1              0        0           0       3             1   \n",
       "5199       0              0        0           0      51             1   \n",
       "5235       1              0        0           0       9             1   \n",
       "5399       0              0        0           0      50             1   \n",
       "862        1              1        1           0      20             1   \n",
       "\n",
       "      MultipleLines  OnlineSecurity  OnlineBackup  DeviceProtection  ...  \\\n",
       "6030              0               0             0                 1  ...   \n",
       "3410              0               0             0                 0  ...   \n",
       "5483              1               0             0                 1  ...   \n",
       "5524              0               1             0                 0  ...   \n",
       "6337              1               1             0                 0  ...   \n",
       "...             ...             ...           ...               ...  ...   \n",
       "3778              1               0             0                 0  ...   \n",
       "5199              1               0             1                 1  ...   \n",
       "5235              1               1             0                 0  ...   \n",
       "5399              0               0             0                 0  ...   \n",
       "862               0               0             1                 0  ...   \n",
       "\n",
       "      InternetService_0  InternetService_DSL  InternetService_Fiber optic  \\\n",
       "6030                  0                    1                            0   \n",
       "3410                  0                    1                            0   \n",
       "5483                  0                    0                            1   \n",
       "5524                  0                    1                            0   \n",
       "6337                  0                    0                            1   \n",
       "...                 ...                  ...                          ...   \n",
       "3778                  0                    1                            0   \n",
       "5199                  0                    0                            1   \n",
       "5235                  0                    0                            1   \n",
       "5399                  1                    0                            0   \n",
       "862                   0                    0                            1   \n",
       "\n",
       "      Contract_Month-to-month  Contract_One year  Contract_Two year  \\\n",
       "6030                        1                  0                  0   \n",
       "3410                        1                  0                  0   \n",
       "5483                        1                  0                  0   \n",
       "5524                        0                  0                  1   \n",
       "6337                        0                  1                  0   \n",
       "...                       ...                ...                ...   \n",
       "3778                        1                  0                  0   \n",
       "5199                        0                  1                  0   \n",
       "5235                        1                  0                  0   \n",
       "5399                        0                  1                  0   \n",
       "862                         1                  0                  0   \n",
       "\n",
       "      PaymentMethod_Bank transfer (automatic)  \\\n",
       "6030                                        1   \n",
       "3410                                        0   \n",
       "5483                                        0   \n",
       "5524                                        1   \n",
       "6337                                        0   \n",
       "...                                       ...   \n",
       "3778                                        1   \n",
       "5199                                        0   \n",
       "5235                                        0   \n",
       "5399                                        1   \n",
       "862                                         0   \n",
       "\n",
       "      PaymentMethod_Credit card (automatic)  PaymentMethod_Electronic check  \\\n",
       "6030                                      0                               0   \n",
       "3410                                      1                               0   \n",
       "5483                                      0                               1   \n",
       "5524                                      0                               0   \n",
       "6337                                      0                               0   \n",
       "...                                     ...                             ...   \n",
       "3778                                      0                               0   \n",
       "5199                                      0                               1   \n",
       "5235                                      0                               1   \n",
       "5399                                      0                               0   \n",
       "862                                       0                               1   \n",
       "\n",
       "      PaymentMethod_Mailed check  \n",
       "6030                           0  \n",
       "3410                           0  \n",
       "5483                           0  \n",
       "5524                           0  \n",
       "6337                           1  \n",
       "...                          ...  \n",
       "3778                           0  \n",
       "5199                           0  \n",
       "5235                           0  \n",
       "5399                           0  \n",
       "862                            0  \n",
       "\n",
       "[5625 rows x 26 columns]"
      ]
     },
     "execution_count": 38,
     "metadata": {},
     "output_type": "execute_result"
    }
   ],
   "source": [
    "X_train"
   ]
  },
  {
   "cell_type": "code",
   "execution_count": 39,
   "id": "1435ddfd",
   "metadata": {},
   "outputs": [],
   "source": [
    "X_train_1 = X_train.copy()\n",
    "X_test_1 = X_test.copy()\n",
    "y_train_1 = y_train.copy()\n",
    "y_test_1 = y_test.copy()"
   ]
  },
  {
   "cell_type": "code",
   "execution_count": 40,
   "id": "e4ac3d8f",
   "metadata": {},
   "outputs": [
    {
     "data": {
      "text/plain": [
       "2481    0\n",
       "6784    0\n",
       "6125    1\n",
       "3052    0\n",
       "4099    0\n",
       "       ..\n",
       "1733    0\n",
       "5250    0\n",
       "5465    0\n",
       "5851    0\n",
       "3984    0\n",
       "Name: Churn, Length: 1407, dtype: int64"
      ]
     },
     "execution_count": 40,
     "metadata": {},
     "output_type": "execute_result"
    }
   ],
   "source": [
    "y_test_1"
   ]
  },
  {
   "cell_type": "markdown",
   "id": "94f3d703",
   "metadata": {},
   "source": [
    "### Training the model"
   ]
  },
  {
   "cell_type": "code",
   "execution_count": 41,
   "id": "d5391a16",
   "metadata": {},
   "outputs": [],
   "source": [
    "def best_model(algos, X_train, X_test, y_train, y_test):\n",
    "    algo = algos\n",
    "    algo.fit(X_train, y_train)\n",
    "    train_score = algo.score(X_train, y_train)\n",
    "    y_pred = algos.predict(X_test)\n",
    "    test_score = algo.score(X_test, y_test)\n",
    "    print(algos, \"Score on training :\", train_score )\n",
    "    print(algos, \"Score on testing :\", test_score)\n",
    "    print(\"-\"*100)"
   ]
  },
  {
   "cell_type": "code",
   "execution_count": 42,
   "id": "746b85fe",
   "metadata": {},
   "outputs": [
    {
     "name": "stderr",
     "output_type": "stream",
     "text": [
      "C:\\Users\\welcome\\anaconda3\\lib\\site-packages\\sklearn\\linear_model\\_logistic.py:763: ConvergenceWarning: lbfgs failed to converge (status=1):\n",
      "STOP: TOTAL NO. of ITERATIONS REACHED LIMIT.\n",
      "\n",
      "Increase the number of iterations (max_iter) or scale the data as shown in:\n",
      "    https://scikit-learn.org/stable/modules/preprocessing.html\n",
      "Please also refer to the documentation for alternative solver options:\n",
      "    https://scikit-learn.org/stable/modules/linear_model.html#logistic-regression\n",
      "  n_iter_i = _check_optimize_result(\n"
     ]
    },
    {
     "name": "stdout",
     "output_type": "stream",
     "text": [
      "LogisticRegression() Score on training : 0.8092444444444444\n",
      "LogisticRegression() Score on testing : 0.7882018479033405\n",
      "----------------------------------------------------------------------------------------------------\n",
      "DecisionTreeClassifier() Score on training : 0.9976888888888888\n",
      "DecisionTreeClassifier() Score on testing : 0.7185501066098081\n",
      "----------------------------------------------------------------------------------------------------\n",
      "RandomForestClassifier() Score on training : 0.9976888888888888\n",
      "RandomForestClassifier() Score on testing : 0.7839374555792467\n",
      "----------------------------------------------------------------------------------------------------\n",
      "SVC() Score on training : 0.7342222222222222\n",
      "SVC() Score on testing : 0.7341862117981521\n",
      "----------------------------------------------------------------------------------------------------\n",
      "KNeighborsClassifier() Score on training : 0.832\n",
      "KNeighborsClassifier() Score on testing : 0.7711442786069652\n",
      "----------------------------------------------------------------------------------------------------\n"
     ]
    }
   ],
   "source": [
    "algorithm = [LogisticRegression(), \n",
    "             DecisionTreeClassifier(), \n",
    "             RandomForestClassifier(), \n",
    "             SVC(), \n",
    "             KNeighborsClassifier()]\n",
    "\n",
    "for algos in algorithm:\n",
    "    best_model(algos, X_train_1, X_test_1, y_train_1, y_test_1)"
   ]
  },
  {
   "cell_type": "markdown",
   "id": "eaac5931",
   "metadata": {},
   "source": [
    "Logistic Regression performs the best out of the five algorithms. Since Logitic Regression is a gradient descent based algorithm, it requires feauture scaling"
   ]
  },
  {
   "cell_type": "markdown",
   "id": "03749c55",
   "metadata": {},
   "source": [
    "We have three columns namely `tenure`, `MonthlyCharges`, `TotalCharges` which have unscaled values. So we need to scale them"
   ]
  },
  {
   "cell_type": "code",
   "execution_count": 43,
   "id": "d6291f5b",
   "metadata": {},
   "outputs": [],
   "source": [
    "std = StandardScaler()\n",
    "X_train_scaled = std.fit_transform(X_train)\n",
    "X_test_scaled = std.transform(X_test)"
   ]
  },
  {
   "cell_type": "code",
   "execution_count": 44,
   "id": "49eb251f",
   "metadata": {},
   "outputs": [
    {
     "data": {
      "text/plain": [
       "array([[-1.01378388, -0.43758982, -0.9624811 , ..., -0.52764485,\n",
       "        -0.71475753, -0.54742719],\n",
       "       [ 0.98640353, -0.43758982, -0.9624811 , ...,  1.89521417,\n",
       "        -0.71475753, -0.54742719],\n",
       "       [-1.01378388, -0.43758982,  1.03898144, ..., -0.52764485,\n",
       "         1.39907586, -0.54742719],\n",
       "       ...,\n",
       "       [ 0.98640353, -0.43758982, -0.9624811 , ..., -0.52764485,\n",
       "         1.39907586, -0.54742719],\n",
       "       [-1.01378388, -0.43758982, -0.9624811 , ..., -0.52764485,\n",
       "        -0.71475753, -0.54742719],\n",
       "       [ 0.98640353,  2.28524509,  1.03898144, ..., -0.52764485,\n",
       "         1.39907586, -0.54742719]])"
      ]
     },
     "execution_count": 44,
     "metadata": {},
     "output_type": "execute_result"
    }
   ],
   "source": [
    "X_train_scaled"
   ]
  },
  {
   "cell_type": "code",
   "execution_count": 45,
   "id": "85c49e20",
   "metadata": {},
   "outputs": [
    {
     "name": "stdout",
     "output_type": "stream",
     "text": [
      "Score on training : 0.8087111111111112\n",
      "Score on testing : 0.7882018479033405\n"
     ]
    }
   ],
   "source": [
    "lr_norm = LogisticRegression()\n",
    "lr_norm.fit(X_train_scaled, y_train)\n",
    "train_score = lr_norm.score(X_train_scaled, y_train)\n",
    "y_pred = lr_norm.predict(X_test_scaled)\n",
    "test_score = lr_norm.score(X_test_scaled, y_test)\n",
    "print(\"Score on training :\", train_score )\n",
    "print(\"Score on testing :\", test_score)"
   ]
  },
  {
   "cell_type": "markdown",
   "id": "afa1a3aa",
   "metadata": {},
   "source": [
    "The training score fairly changed from 0.8072888888888888 to 0.8087111111111112 and the testing score changed from 0.7860696517412935 to 0.7882018479033405\n",
    " "
   ]
  },
  {
   "cell_type": "code",
   "execution_count": 46,
   "id": "9ee724eb",
   "metadata": {},
   "outputs": [
    {
     "name": "stdout",
     "output_type": "stream",
     "text": [
      "Score on training : 0.7811138014527845\n",
      "Score on testing : 0.7412935323383084\n"
     ]
    }
   ],
   "source": [
    "sm = SMOTE(sampling_strategy = 'minority', k_neighbors = 10, random_state = 2)\n",
    "X_train_res, y_train_res = sm.fit_resample(X_train_scaled, y_train)\n",
    "\n",
    "lr_smote = LogisticRegression()\n",
    "lr_smote.fit(X_train_res, y_train_res)\n",
    "train_score = lr_smote.score(X_train_res, y_train_res)\n",
    "y_pred = lr_smote.predict(X_test_scaled)\n",
    "test_score = lr_smote.score(X_test_scaled, y_test)\n",
    "print(\"Score on training :\", train_score )\n",
    "print(\"Score on testing :\", test_score)"
   ]
  },
  {
   "cell_type": "code",
   "execution_count": 47,
   "id": "6656108e",
   "metadata": {},
   "outputs": [
    {
     "data": {
      "text/plain": [
       "((8260, 26), (8260,))"
      ]
     },
     "execution_count": 47,
     "metadata": {},
     "output_type": "execute_result"
    }
   ],
   "source": [
    "X_train_res.shape, y_train_res.shape"
   ]
  },
  {
   "cell_type": "markdown",
   "id": "55206913",
   "metadata": {},
   "source": [
    "### Evaluation metrics"
   ]
  },
  {
   "cell_type": "code",
   "execution_count": 48,
   "id": "5429baf7",
   "metadata": {},
   "outputs": [
    {
     "name": "stdout",
     "output_type": "stream",
     "text": [
      "              precision    recall  f1-score   support\n",
      "\n",
      "           0       0.90      0.72      0.80      1033\n",
      "           1       0.51      0.79      0.62       374\n",
      "\n",
      "    accuracy                           0.74      1407\n",
      "   macro avg       0.71      0.76      0.71      1407\n",
      "weighted avg       0.80      0.74      0.75      1407\n",
      "\n"
     ]
    }
   ],
   "source": [
    "print(classification_report(y_test, y_pred))"
   ]
  },
  {
   "cell_type": "code",
   "execution_count": 49,
   "id": "baa38194",
   "metadata": {},
   "outputs": [
    {
     "name": "stdout",
     "output_type": "stream",
     "text": [
      "[[748 285]\n",
      " [ 79 295]]\n"
     ]
    }
   ],
   "source": [
    "cm = confusion_matrix(y_test, y_pred)\n",
    "print(cm)"
   ]
  },
  {
   "cell_type": "code",
   "execution_count": 50,
   "id": "bc174f3c",
   "metadata": {},
   "outputs": [
    {
     "data": {
      "text/plain": [
       "Text(33.0, 0.5, 'Actual')"
      ]
     },
     "execution_count": 50,
     "metadata": {},
     "output_type": "execute_result"
    },
    {
     "data": {
      "image/png": "[encoded data removed]",
      "text/plain": [
       "<Figure size 432x288 with 2 Axes>"
      ]
     },
     "metadata": {
      "needs_background": "light"
     },
     "output_type": "display_data"
    }
   ],
   "source": [
    "sns.heatmap(cm, annot = True, linewidths = 0.5, fmt = 'd')\n",
    "plt.xlabel('Predicted')\n",
    "plt.ylabel('Actual')"
   ]
  },
  {
   "cell_type": "code",
   "execution_count": 51,
   "id": "1a40090a",
   "metadata": {},
   "outputs": [
    {
     "data": {
      "text/plain": [
       "0.7412935323383084"
      ]
     },
     "execution_count": 51,
     "metadata": {},
     "output_type": "execute_result"
    }
   ],
   "source": [
    "accuracy_score(y_test, y_pred)"
   ]
  }
 ],
 "metadata": {
  "kernelspec": {
   "display_name": "Python 3",
   "language": "python",
   "name": "python3"
  },
  "language_info": {
   "codemirror_mode": {
    "name": "ipython",
    "version": 3
   },
   "file_extension": ".py",
   "mimetype": "text/x-python",
   "name": "python",
   "nbconvert_exporter": "python",
   "pygments_lexer": "ipython3",
   "version": "3.8.8"
  }
 },
 "nbformat": 4,
 "nbformat_minor": 5
}
